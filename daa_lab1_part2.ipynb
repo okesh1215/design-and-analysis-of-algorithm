{
 "cells": [
  {
   "cell_type": "code",
   "execution_count": 2,
   "metadata": {},
   "outputs": [
    {
     "data": {
      "image/png": "[encoded data removed]",
      "text/plain": [
       "<Figure size 640x480 with 1 Axes>"
      ]
     },
     "metadata": {},
     "output_type": "display_data"
    }
   ],
   "source": [
    "import time\n",
    "import random\n",
    "import matplotlib.pyplot as plt\n",
    "\n",
    "def selection(arr):\n",
    "    size = len(arr)\n",
    "    for i in range(size):\n",
    "        min_idx = i\n",
    "        for j in range(i+1, size):\n",
    "            if arr[j] < arr[min_idx]:\n",
    "                min_idx = j\n",
    "        arr[i], arr[min_idx] = arr[min_idx], arr[i]\n",
    "\n",
    "\n",
    "def insertion(arr):\n",
    "    for i in range(1, len(arr)):\n",
    "        key = arr[i]\n",
    "        j = i - 1\n",
    "        while j >= 0 and key < arr[j]:\n",
    "            arr[j + 1] = arr[j]\n",
    "            j -= 1\n",
    "        arr[j + 1] = key\n",
    "\n",
    "def bubble(arr):\n",
    "    size = len(arr)\n",
    "    for i in range(size):\n",
    "        for j in range(0, size-i-1):\n",
    "            if arr[j] > arr[j+1]:\n",
    "                arr[j], arr[j+1] = arr[j+1], arr[j]\n",
    "\n",
    "\n",
    "random_numbers = [random.randint(1, 10000) for _ in range(1000)]\n",
    "start_time = time.time()\n",
    "selection(random_numbers.copy())\n",
    "selection_sort_time = time.time() - start_time\n",
    "\n",
    "start_time = time.time()\n",
    "insertion(random_numbers.copy())\n",
    "insertion_sort_time = time.time() - start_time\n",
    "\n",
    "start_time = time.time()\n",
    "bubble(random_numbers.copy())\n",
    "bubble_sort_time = time.time() - start_time\n",
    "\n",
    "labels = ['Selection Sort', 'Insertion Sort', 'Bubble Sort']\n",
    "times = [selection_sort_time, insertion_sort_time, bubble_sort_time]\n",
    "\n",
    "plt.bar(labels, times, color=['blue', 'green', 'orange'])\n",
    "plt.xlabel('Sorting Algorithm')\n",
    "plt.ylabel('Time (seconds)')\n",
    "plt.title('Execution Time for Sorting Algorithms')\n",
    "plt.show()\n"
   ]
  },
  {
   "cell_type": "code",
   "execution_count": 5,
   "metadata": {},
   "outputs": [
    {
     "name": "stdout",
     "output_type": "stream",
     "text": [
      "Sorted Result: [1, 2, 3, 4, 5, 6, 7, 8, 9]\n"
     ]
    }
   ],
   "source": [
    "def merge_sorted_sets(sorted_sets):\n",
    "    merged_set = set()\n",
    "    for s in sorted_sets:\n",
    "        merged_set.update(s)\n",
    "    sorted_result = sorted(merged_set)\n",
    "\n",
    "    return sorted_result\n",
    "\n",
    "\n",
    "sorted_sets = [\n",
    "    {3, 5, 7},\n",
    "    {2, 4, 6},\n",
    "    {1, 8, 9}\n",
    "]\n",
    "\n",
    "sorted_result = merge_sorted_sets(sorted_sets)\n",
    "print(\"Sorted Result:\", sorted_result)\n"
   ]
  },
  {
   "cell_type": "code",
   "execution_count": 10,
   "metadata": {},
   "outputs": [
    {
     "name": "stdout",
     "output_type": "stream",
     "text": [
      "The 4 largest elements in the array are: [10, 9, 7, 4]\n"
     ]
    }
   ],
   "source": [
    "def find_k_largest(arr, k):\n",
    "    arr.sort(reverse=True)\n",
    "    return arr[:k]\n",
    "\n",
    "arr = [3, 10, 4, 7, 9, 1]\n",
    "k = 4  \n",
    "largest_elements = find_k_largest(arr, k)\n",
    "print(f\"The {k} largest elements in the array are: {largest_elements}\")\n"
   ]
  },
  {
   "cell_type": "code",
   "execution_count": 15,
   "metadata": {},
   "outputs": [
    {
     "name": "stdout",
     "output_type": "stream",
     "text": [
      "Max activities: 3\n",
      "Activities set: {(8, 10), (1, 3), (3, 6)}\n"
     ]
    }
   ],
   "source": [
    "def max_activities(acts):\n",
    "    if not acts:\n",
    "        return 0\n",
    "\n",
    "    sorted_acts = sorted(acts, key=lambda x: x[1])\n",
    "    max_count = 1\n",
    "    end_time = sorted_acts[0][1]\n",
    "    max_activities_set = {sorted_acts[0]}\n",
    "\n",
    "    for act in sorted_acts[1:]:\n",
    "        if act[0] >= end_time:\n",
    "            max_count += 1\n",
    "            end_time = act[1]\n",
    "            max_activities_set.add(act)\n",
    "\n",
    "    return max_count, max_activities_set\n",
    "\n",
    "# Example usage:\n",
    "acts = [(1, 3), (2, 5), (3, 6), (5, 7), (8, 10)]\n",
    "result, max_activities_set = max_activities(acts)\n",
    "print(\"Max activities:\", result)\n",
    "print(\"Activities set:\", max_activities_set)\n"
   ]
  },
  {
   "cell_type": "code",
   "execution_count": 12,
   "metadata": {},
   "outputs": [
    {
     "name": "stdout",
     "output_type": "stream",
     "text": [
      "Merged intervals: [(1, 5), (6, 9)]\n"
     ]
    }
   ],
   "source": [
    "def merge(intervals):\n",
    "    if not intervals:\n",
    "        return []\n",
    "\n",
    "    sorted_set = sorted(intervals, key=lambda x: x[0])\n",
    "    merged_set = [sorted_set[0]]\n",
    "\n",
    "    for interval in sorted_set[1:]:\n",
    "        if interval[0] <= merged_set[-1][1]:\n",
    "            merged_set[-1] = (merged_set[-1][0], max(merged_set[-1][1], interval[1]))\n",
    "        else:\n",
    "            merged_set.append(interval)\n",
    "\n",
    "    return merged_set\n",
    "\n",
    "input_intervals = [(1, 4), (2, 5), (7, 8), (6, 9)]\n",
    "result = merge(input_intervals)\n",
    "print(\"Merged intervals:\", result)\n"
   ]
  }
 ],
 "metadata": {
  "kernelspec": {
   "display_name": "Python 3",
   "language": "python",
   "name": "python3"
  },
  "language_info": {
   "codemirror_mode": {
    "name": "ipython",
    "version": 3
   },
   "file_extension": ".py",
   "mimetype": "text/x-python",
   "name": "python",
   "nbconvert_exporter": "python",
   "pygments_lexer": "ipython3",
   "version": "3.11.5"
  }
 },
 "nbformat": 4,
 "nbformat_minor": 2
}

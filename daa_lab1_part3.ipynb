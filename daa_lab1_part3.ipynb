{
 "cells": [
  {
   "cell_type": "code",
   "execution_count": 2,
   "metadata": {},
   "outputs": [
    {
     "name": "stdout",
     "output_type": "stream",
     "text": [
      "Pair with sum 11: (4, 7)\n"
     ]
    }
   ],
   "source": [
    "def find_pair_with_sum(arr, target_sum):\n",
    "    seen = set()\n",
    "    for num in arr:\n",
    "        target_pair = target_sum - num\n",
    "        if target_pair in seen:\n",
    "            return target_pair, num\n",
    "        seen.add(num)\n",
    "    return None\n",
    "\n",
    "arr = [1, 4, 7, 2, 5, 9]\n",
    "target_sum = 11\n",
    "pair = find_pair_with_sum(arr, target_sum)\n",
    "if pair:\n",
    "    print(f\"Pair with sum {target_sum}: {pair}\")\n",
    "else:\n",
    "    print(\"No pair found with the given sum.\")\n"
   ]
  },
  {
   "cell_type": "code",
   "execution_count": 5,
   "metadata": {},
   "outputs": [
    {
     "name": "stdout",
     "output_type": "stream",
     "text": [
      "Pair with maximum product: (9, 8), Product: 72\n"
     ]
    }
   ],
   "source": [
    "def max_pair(arr):\n",
    "    if len(arr) < 2:\n",
    "        return None\n",
    "\n",
    "    arr.sort()\n",
    "    return arr[-1], arr[-2]\n",
    "\n",
    "arr = [1, 7, 4, 2, 8, 6, 3, 9, 5,-10,-91]\n",
    "pair = max_pair(arr)\n",
    "if pair:\n",
    "    product = pair[0] * pair[1]\n",
    "    print(f\"Pair with maximum product: {pair}, Product: {product}\")\n",
    "else:\n",
    "    print(\"Array is too small to find a pair with maximum product.\")\n"
   ]
  },
  {
   "cell_type": "code",
   "execution_count": 6,
   "metadata": {},
   "outputs": [
    {
     "name": "stdout",
     "output_type": "stream",
     "text": [
      "Segregated Array: [0, 0, 0, 0, 0, 1, 1, 1, 1, 1]\n"
     ]
    }
   ],
   "source": [
    "def segregate_zeros_and_ones(arr):\n",
    "    left, right = 0, len(arr) - 1\n",
    "\n",
    "    while left < right:\n",
    "        while arr[left] == 0 and left < right:\n",
    "            left += 1\n",
    "        while arr[right] == 1 and left < right:\n",
    "            right -= 1\n",
    "            \n",
    "        if left < right:\n",
    "            arr[left], arr[right] = arr[right], arr[left]\n",
    "            left += 1\n",
    "            right -= 1\n",
    "\n",
    "arr = [0, 1, 0, 1, 0, 0, 1, 1, 1, 0]\n",
    "segregate_zeros_and_ones(arr)\n",
    "print(\"Segregated Array:\", arr)\n"
   ]
  },
  {
   "cell_type": "code",
   "execution_count": 10,
   "metadata": {},
   "outputs": [
    {
     "name": "stdout",
     "output_type": "stream",
     "text": [
      "Count: 8\n",
      "Inversions: [(10, 1), (10, 2), (10, 4), (10, 9), (10, 5), (13, 9), (13, 5), (9, 5)]\n"
     ]
    }
   ],
   "source": [
    "def inversion_count(arr):\n",
    "    count = 0\n",
    "    inversions = []\n",
    "\n",
    "    n = len(arr)\n",
    "\n",
    "    for i in range(n - 1):\n",
    "        for j in range(i + 1, n):\n",
    "            if arr[i] > arr[j]:\n",
    "                count += 1\n",
    "                inversions.append((arr[i], arr[j]))\n",
    "\n",
    "    return count, inversions\n",
    "\n",
    "arr = [10, 1, 2, 4, 13, 9, 5]\n",
    "count, inversions = inversion_count(arr)\n",
    "print(\"Count:\", count)\n",
    "print(\"Inversions:\", inversions)\n"
   ]
  },
  {
   "cell_type": "code",
   "execution_count": 15,
   "metadata": {},
   "outputs": [
    {
     "name": "stdout",
     "output_type": "stream",
     "text": [
      "(4, 6)\n"
     ]
    }
   ],
   "source": [
    "def sum_of_two_num(arr, K):\n",
    "    n = len(arr)\n",
    "    for i in range(n):\n",
    "        for j in range(i + 1, n):\n",
    "            if arr[i] + arr[j] == K:\n",
    "                return arr[i],arr[j]\n",
    "    return False\n",
    "\n",
    "arr = [8, 4, 1, 6]\n",
    "K = 10\n",
    "print(sum_of_two_num(arr, K)) \n"
   ]
  },
  {
   "cell_type": "code",
   "execution_count": 17,
   "metadata": {},
   "outputs": [
    {
     "name": "stdout",
     "output_type": "stream",
     "text": [
      "(4, 6)\n"
     ]
    }
   ],
   "source": [
    "def sum_of_two_num(arr, K):\n",
    "    arr.sort()\n",
    "    left, right = 0, len(arr) - 1\n",
    "    while left < right:\n",
    "        current_sum = arr[left] + arr[right]\n",
    "        if current_sum == K:\n",
    "            return arr[left],arr[right]\n",
    "        elif current_sum < K:\n",
    "            left += 1\n",
    "        else:\n",
    "            right -= 1\n",
    "    return False\n",
    "\n",
    "arr = [8, 4, 1, 6]\n",
    "K = 10\n",
    "print(sum_of_two_num(arr, K))  \n"
   ]
  }
 ],
 "metadata": {
  "kernelspec": {
   "display_name": "Python 3",
   "language": "python",
   "name": "python3"
  },
  "language_info": {
   "codemirror_mode": {
    "name": "ipython",
    "version": 3
   },
   "file_extension": ".py",
   "mimetype": "text/x-python",
   "name": "python",
   "nbconvert_exporter": "python",
   "pygments_lexer": "ipython3",
   "version": "3.11.5"
  }
 },
 "nbformat": 4,
 "nbformat_minor": 2
}

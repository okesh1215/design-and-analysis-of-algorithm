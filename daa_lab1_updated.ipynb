{
 "cells": [
  {
   "cell_type": "code",
   "execution_count": 9,
   "metadata": {},
   "outputs": [
    {
     "name": "stdout",
     "output_type": "stream",
     "text": [
      "randommly generated array [1, 1, 2, 3, 4, 4, 5, 5, 7, 7, 8, 11, 12, 13, 15, 16, 19, 19, 20, 20, 21, 22, 22, 25, 26, 27, 27, 29, 32, 32, 32, 33, 33, 35, 35, 35, 37, 38, 38, 38, 42, 43, 44, 45, 46, 47, 47, 48, 52, 55, 56, 57, 58, 58, 60, 61, 61, 63, 63, 63, 64, 64, 65, 66, 66, 68, 69, 70, 72, 72, 75, 76, 77, 78, 79, 81, 81, 82, 82, 83, 86, 86, 86, 88, 90, 90, 90, 90, 91, 92, 92, 94, 96, 96, 97, 98, 98, 99, 100, 100]\n",
      "Sorted array:\n",
      "1, 1, 2, 3, 4, 4, 5, 5, 7, 7, 8, 11, 12, 13, 15, 16, 19, 19, 20, 20, 21, 22, 22, 25, 26, 27, 27, 29, 32, 32, 32, 33, 33, 35, 35, 35, 37, 38, 38, 38, 42, 43, 44, 45, 46, 47, 47, 48, 52, 55, 56, 57, 58, 58, 60, 61, 61, 63, 63, 63, 64, 64, 65, 66, 66, 68, 69, 70, 72, 72, 75, 76, 77, 78, 79, 81, 81, 82, 82, 83, 86, 86, 86, 88, 90, 90, 90, 90, 91, 92, 92, 94, 96, 96, 97, 98, 98, 99, 100, 100, \n",
      "Execution Time: 0.001001 seconds\n",
      "Number of Swaps: 324\n"
     ]
    }
   ],
   "source": [
    "import time\n",
    "import random\n",
    "A = [random.randint(1, 100) for _ in range(100)]\n",
    "\n",
    "\n",
    "start_time = time.time()\n",
    "\n",
    "swaps = 0\n",
    "for i in range(len(A)):\n",
    "    min_idx = i\n",
    "    for j in range(i + 1, len(A)):\n",
    "        if A[min_idx] > A[j]:\n",
    "            min_idx = j\n",
    "            swaps += 1\n",
    "\n",
    "    A[i], A[min_idx] = A[min_idx], A[i]\n",
    "\n",
    "end_time = time.time()\n",
    "print(\"randommly generated array\",A)\n",
    "print(\"Sorted array:\")\n",
    "for i in range(len(A)):\n",
    "    print(\"%d\" % A[i], end=\", \")\n",
    "\n",
    "print(\"\\nExecution Time: %.8f seconds\" % (end_time - start_time))\n",
    "print(\"Number of Swaps: %d\" % swaps)\n"
   ]
  },
  {
   "cell_type": "code",
   "execution_count": 11,
   "metadata": {},
   "outputs": [
    {
     "name": "stdout",
     "output_type": "stream",
     "text": [
      "[1, 1, 1, 2, 4, 4, 4, 5, 7, 8, 8, 8, 10, 12, 13, 14, 18, 19, 19, 20, 21, 23, 24, 24, 25, 25, 26, 28, 29, 29, 30, 30, 31, 32, 36, 36, 36, 37, 38, 39, 40, 40, 40, 40, 41, 41, 43, 43, 43, 44, 44, 46, 47, 48, 48, 49, 50, 51, 51, 55, 56, 58, 58, 61, 61, 62, 63, 63, 63, 63, 63, 64, 65, 65, 66, 67, 69, 69, 69, 71, 73, 73, 75, 76, 77, 81, 81, 82, 83, 84, 84, 91, 91, 94, 95, 97, 97, 99, 99, 99]\n",
      "\n",
      "Execution Time: 0.00074935 seconds\n"
     ]
    }
   ],
   "source": [
    "import time\n",
    "import random\n",
    "array1= [random.randint(1, 100) for _ in range(100)]\n",
    "\n",
    "start_time = time.time()\n",
    "array1.sort()\n",
    "end_time = time.time()\n",
    "print(array1)\n",
    "print(\"\\nExecution Time: %.8f seconds\" % (end_time - start_time))\n"
   ]
  },
  {
   "cell_type": "code",
   "execution_count": 12,
   "metadata": {},
   "outputs": [
    {
     "name": "stdout",
     "output_type": "stream",
     "text": [
      "Randomly generated array: [1, 2, 2, 3, 5, 6, 6, 6, 6, 7, 9, 9, 10, 10, 12, 12, 12, 13, 13, 15, 15, 15, 15, 16, 17, 21, 24, 25, 27, 30, 30, 31, 31, 32, 33, 36, 37, 39, 40, 41, 41, 42, 44, 44, 44, 46, 47, 48, 49, 50, 53, 57, 58, 59, 60, 62, 62, 62, 63, 63, 64, 64, 66, 69, 70, 71, 72, 72, 73, 73, 73, 74, 74, 75, 76, 77, 77, 79, 79, 80, 80, 80, 84, 85, 86, 86, 87, 87, 88, 89, 89, 90, 92, 92, 94, 95, 97, 98, 98, 99]\n",
      "Sorted array:\n",
      "1, 2, 2, 3, 5, 6, 6, 6, 6, 7, 9, 9, 10, 10, 12, 12, 12, 13, 13, 15, 15, 15, 15, 16, 17, 21, 24, 25, 27, 30, 30, 31, 31, 32, 33, 36, 37, 39, 40, 41, 41, 42, 44, 44, 44, 46, 47, 48, 49, 50, 53, 57, 58, 59, 60, 62, 62, 62, 63, 63, 64, 64, 66, 69, 70, 71, 72, 72, 73, 73, 73, 74, 74, 75, 76, 77, 77, 79, 79, 80, 80, 80, 84, 85, 86, 86, 87, 87, 88, 89, 89, 90, 92, 92, 94, 95, 97, 98, 98, 99, \n",
      "Execution Time: 0.00198340 seconds\n",
      "Number of Swaps: 2338\n"
     ]
    }
   ],
   "source": [
    "import time\n",
    "import random\n",
    "A = [random.randint(1, 100) for _ in range(100)]\n",
    "\n",
    "start_time = time.time()\n",
    "\n",
    "swaps = 0\n",
    "\n",
    "\n",
    "for i in range(len(A)):\n",
    "    for j in range(0, len(A)-i-1):\n",
    "        if A[j] > A[j+1]:\n",
    "            A[j], A[j+1] = A[j+1], A[j]\n",
    "            swaps += 1\n",
    "\n",
    "end_time = time.time()\n",
    "\n",
    "print(\"Randomly generated array:\", A)\n",
    "print(\"Sorted array:\")\n",
    "for i in range(len(A)):\n",
    "    print(\"%d\" % A[i], end=\", \")\n",
    "\n",
    "print(\"\\nExecution Time: %.8f seconds\" % (end_time - start_time))\n",
    "print(\"Number of Swaps: %d\" % swaps)\n"
   ]
  },
  {
   "cell_type": "code",
   "execution_count": null,
   "metadata": {},
   "outputs": [],
   "source": []
  }
 ],
 "metadata": {
  "kernelspec": {
   "display_name": "Python 3",
   "language": "python",
   "name": "python3"
  },
  "language_info": {
   "codemirror_mode": {
    "name": "ipython",
    "version": 3
   },
   "file_extension": ".py",
   "mimetype": "text/x-python",
   "name": "python",
   "nbconvert_exporter": "python",
   "pygments_lexer": "ipython3",
   "version": "3.11.5"
  }
 },
 "nbformat": 4,
 "nbformat_minor": 2
}

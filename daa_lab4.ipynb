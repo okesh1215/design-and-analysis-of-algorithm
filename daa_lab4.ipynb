{
 "cells": [
  {
   "cell_type": "code",
   "execution_count": 6,
   "metadata": {},
   "outputs": [
    {
     "name": "stdout",
     "output_type": "stream",
     "text": [
      "Optimal Solution:\n",
      "Total Benefit: 49.4\n",
      "Selected Items: [(7, 1), (14, 3), (12, 4), (10, 6), (6.4, 4.0)]\n",
      "Solution Vector: [1, 1, 1, 1, 0.8, 0, 0]\n"
     ]
    }
   ],
   "source": [
    "def fractional_knapsack(items, capacity):\n",
    "    items = [list(item) for item in items]\n",
    "    \n",
    "\n",
    "    for item in items:\n",
    "        item.append(item[0] / item[1])\n",
    "    items.sort(key=lambda x: x[2], reverse=True)\n",
    "\n",
    "    total_benefit = 0\n",
    "    knapsack = []\n",
    "    solution_vector = [0] * len(items)\n",
    "\n",
    "    for i, item in enumerate(items):\n",
    "        if capacity >= item[1]:\n",
    "           \n",
    "            knapsack.append((item[0], item[1]))\n",
    "            solution_vector[items.index(item)] = 1\n",
    "            total_benefit += item[0]\n",
    "            capacity -= item[1]\n",
    "        else:\n",
    "        \n",
    "            fraction = capacity / item[1]\n",
    "            knapsack.append((item[0] * fraction, item[1] * fraction))\n",
    "            solution_vector[items.index(item)] = fraction\n",
    "            total_benefit += item[0] * fraction\n",
    "            break\n",
    "\n",
    "    return total_benefit, knapsack, solution_vector\n",
    "\n",
    "items = [(12 , 4), (10, 6), (8 , 5),(11,7),(14,3),(7,1),(9,6)]  \n",
    "capacity = 18\n",
    "optimal_solution = fractional_knapsack(items, capacity)\n",
    "print(\"Optimal Solution:\")\n",
    "print(\"Total Benefit:\", optimal_solution[0])\n",
    "print(\"Selected Items:\", optimal_solution[1])\n",
    "print(\"Solution Vector:\", optimal_solution[2])\n"
   ]
  },
  {
   "cell_type": "code",
   "execution_count": 15,
   "metadata": {},
   "outputs": [
    {
     "name": "stdout",
     "output_type": "stream",
     "text": [
      "Sum of arr[i] * i: 23\n",
      "Maximum sum of products: 40\n"
     ]
    }
   ],
   "source": [
    "\n",
    "def calculate_sum(arr):\n",
    "    total_sum = 0\n",
    "    for i, num in enumerate(arr):\n",
    "        total_sum += num * i\n",
    "    return total_sum\n",
    "\n",
    "def max_sum_of_products(arr):\n",
    "    sorted_arr = arr.copy()\n",
    "    sorted_arr.sort()\n",
    "    total_sum = 0\n",
    "    for i, num in enumerate(sorted_arr):\n",
    "        total_sum += num * i\n",
    "    return total_sum\n",
    "\n",
    "arr = [2, 5, 3, 4, 0]\n",
    "\n",
    "normal_sum = calculate_sum(arr)\n",
    "print(\"Sum of arr[i] * i:\", normal_sum)\n",
    "\n",
    "max_sum = max_sum_of_products(arr)\n",
    "print(\"Maximum sum of products:\", max_sum)\n"
   ]
  },
  {
   "cell_type": "code",
   "execution_count": 14,
   "metadata": {},
   "outputs": [
    {
     "name": "stdout",
     "output_type": "stream",
     "text": [
      "Minimum sum of products: 104\n"
     ]
    }
   ],
   "source": [
    "\n",
    "def min_sum_of_products(array_one, array_two):\n",
    "  \n",
    "    array_one.sort()\n",
    "    array_two.sort(reverse=True)\n",
    "    \n",
    "    total_sum = 0\n",
    "    \n",
    "    for num1, num2 in zip(array_one, array_two):\n",
    "        total_sum += num1 * num2\n",
    "\n",
    "    return total_sum\n",
    "\n",
    "array_one = [7, 5, 1, 4]\n",
    "array_two = [6, 17, 9, 3]\n",
    "min_sum = min_sum_of_products(array_one, array_two)\n",
    "print(\"Minimum sum of products:\", min_sum)\n",
    "\n",
    "\n"
   ]
  }
 ],
 "metadata": {
  "kernelspec": {
   "display_name": "Python 3",
   "language": "python",
   "name": "python3"
  },
  "language_info": {
   "codemirror_mode": {
    "name": "ipython",
    "version": 3
   },
   "file_extension": ".py",
   "mimetype": "text/x-python",
   "name": "python",
   "nbconvert_exporter": "python",
   "pygments_lexer": "ipython3",
   "version": "3.12.0"
  }
 },
 "nbformat": 4,
 "nbformat_minor": 2
}

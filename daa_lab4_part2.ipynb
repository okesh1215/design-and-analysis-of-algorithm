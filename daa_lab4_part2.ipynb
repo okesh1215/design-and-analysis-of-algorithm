{
 "cells": [
  {
   "cell_type": "code",
   "execution_count": 6,
   "metadata": {},
   "outputs": [
    {
     "name": "stdout",
     "output_type": "stream",
     "text": [
      "Optimal Solution:\n",
      "Total Benefit: 49.4\n",
      "Selected Items: [(7, 1), (14, 3), (12, 4), (10, 6), (6.4, 4.0)]\n",
      "Solution Vector: [1, 1, 1, 1, 0.8, 0, 0]\n"
     ]
    }
   ],
   "source": [
    "def fractional_knapsack(items, capacity):\n",
    "    # Convert items to a list of lists to make them mutable\n",
    "    items = [list(item) for item in items]\n",
    "    \n",
    "    # Calculate benefit-to-weight ratio for each item\n",
    "    for item in items:\n",
    "        item.append(item[0] / item[1])\n",
    "\n",
    "    # Sort items by benefit-to-weight ratio in descending order\n",
    "    items.sort(key=lambda x: x[2], reverse=True)\n",
    "\n",
    "    total_benefit = 0\n",
    "    knapsack = []\n",
    "    solution_vector = [0] * len(items)\n",
    "\n",
    "    for i, item in enumerate(items):\n",
    "        if capacity >= item[1]:\n",
    "            # If the whole item can be added\n",
    "            knapsack.append((item[0], item[1]))\n",
    "            solution_vector[items.index(item)] = 1\n",
    "            total_benefit += item[0]\n",
    "            capacity -= item[1]\n",
    "        else:\n",
    "            # Add a fraction of the item\n",
    "            fraction = capacity / item[1]\n",
    "            knapsack.append((item[0] * fraction, item[1] * fraction))\n",
    "            solution_vector[items.index(item)] = fraction\n",
    "            total_benefit += item[0] * fraction\n",
    "            break\n",
    "\n",
    "    return total_benefit, knapsack, solution_vector\n",
    "\n",
    "# Example usage:\n",
    "items = [(12 , 4), (10, 6), (8 , 5),(11,7),(14,3),(7,1),(9,6)]  # (benefit, weight)\n",
    "capacity = 18\n",
    "optimal_solution = fractional_knapsack(items, capacity)\n",
    "print(\"Optimal Solution:\")\n",
    "print(\"Total Benefit:\", optimal_solution[0])\n",
    "print(\"Selected Items:\", optimal_solution[1])\n",
    "print(\"Solution Vector:\", optimal_solution[2])\n"
   ]
  },
  {
   "cell_type": "code",
   "execution_count": 15,
   "metadata": {},
   "outputs": [
    {
     "name": "stdout",
     "output_type": "stream",
     "text": [
      "Sum of arr[i] * i: 23\n",
      "Maximum sum of products: 40\n"
     ]
    }
   ],
   "source": [
    "# to get maximum sum of index and arr[i]\n",
    "def calculate_sum(arr):\n",
    "    total_sum = 0\n",
    "    for i, num in enumerate(arr):\n",
    "        total_sum += num * i\n",
    "    return total_sum\n",
    "\n",
    "def max_sum_of_products(arr):\n",
    "    sorted_arr = arr.copy()\n",
    "    sorted_arr.sort()\n",
    "    total_sum = 0\n",
    "    for i, num in enumerate(sorted_arr):\n",
    "        total_sum += num * i\n",
    "    return total_sum\n",
    "\n",
    "# Example usage:\n",
    "arr = [2, 5, 3, 4, 0]\n",
    "\n",
    "normal_sum = calculate_sum(arr)\n",
    "print(\"Sum of arr[i] * i:\", normal_sum)\n",
    "\n",
    "max_sum = max_sum_of_products(arr)\n",
    "print(\"Maximum sum of products:\", max_sum)\n"
   ]
  },
  {
   "cell_type": "code",
   "execution_count": 16,
   "metadata": {},
   "outputs": [
    {
     "name": "stdout",
     "output_type": "stream",
     "text": [
      "Minimum sum of products: 104\n"
     ]
    }
   ],
   "source": [
    "# minimum sum of product of 2 arrays first array in ascending other in descending \n",
    "def min_sum(arr_one, arr_two):\n",
    "  \n",
    "    arr_one.sort()\n",
    "    arr_two.sort(reverse=True)\n",
    "    \n",
    "    total_sum = 0\n",
    "    \n",
    "    for num1, num2 in zip(arr_one, arr_two):\n",
    "        total_sum += num1 * num2\n",
    "\n",
    "    return total_sum\n",
    "\n",
    "# Example usage:\n",
    "arr_one = [7, 5, 1, 4]\n",
    "arr_two = [6, 17, 9, 3]\n",
    "min_sum = min_sum(arr_one, arr_two)\n",
    "print(\"Minimum sum of products:\", min_sum)\n",
    "\n",
    "\n"
   ]
  },
  {
   "cell_type": "code",
   "execution_count": 7,
   "metadata": {},
   "outputs": [
    {
     "name": "stdout",
     "output_type": "stream",
     "text": [
      "Enter the ratings of each student:\n",
      "Minimum number of candies Alice must buy: 19\n"
     ]
    }
   ],
   "source": [
    "def candies(n, arr):\n",
    "    candies = [1] * n\n",
    "    \n",
    "    for i in range(1, n):\n",
    "        if arr[i] > arr[i - 1]:\n",
    "            candies[i] = candies[i - 1] + 1\n",
    "    \n",
    "    for i in range(n - 2, -1, -1):\n",
    "        if arr[i] > arr[i + 1]:\n",
    "            candies[i] = max(candies[i], candies[i + 1] + 1)\n",
    "    \n",
    "    return sum(candies)\n",
    "\n",
    "def main():\n",
    "   \n",
    "    n = int(input(\"Enter the number of children in the class: \"))\n",
    "    arr = []\n",
    "    print(\"Enter the ratings of each student:\")\n",
    "    for i in range(n):\n",
    "        rating = int(input())\n",
    "        arr.append(rating)\n",
    "\n",
    "    print(\"Minimum number of candies Alice must buy:\", candies(n, arr))\n",
    "\n",
    "if __name__ == \"__main__\":\n",
    "    main()\n",
    "\n"
   ]
  },
  {
   "cell_type": "code",
   "execution_count": 8,
   "metadata": {},
   "outputs": [
    {
     "name": "stdout",
     "output_type": "stream",
     "text": [
      "Maximum number of people in a sunny town after removing exactly one cloud: 110\n"
     ]
    }
   ],
   "source": [
    "def maximumPeople(p, x, y, r):\n",
    "    total_sunny_population = sum(p)\n",
    "    \n",
    "    for i in range(len(y)):\n",
    "        cloud_range = set(range(y[i] - r[i], y[i] + r[i] + 1))\n",
    "        total_dark_population = 0\n",
    "        \n",
    "        for j in range(len(x)):\n",
    "            if x[j] in cloud_range:\n",
    "                total_dark_population += p[j]\n",
    "        \n",
    "        total_sunny_population = max(total_sunny_population, total_sunny_population - total_dark_population)\n",
    "    \n",
    "    return total_sunny_population\n",
    "\n",
    "def main():\n",
    "    n = int(input(\"Enter the number of towns: \"))\n",
    "    \n",
    "    p = list(map(int, input(\"Enter the populations of each town: \").split()))\n",
    "    x = list(map(int, input(\"Enter the locations of each town: \").split()))\n",
    "    \n",
    "    m = int(input(\"Enter the number of clouds: \"))\n",
    "    \n",
    "    y = list(map(int, input(\"Enter the locations of each cloud: \").split()))\n",
    "    r = list(map(int, input(\"Enter the extents of each cloud: \").split()))\n",
    "    \n",
    "    print(\"Maximum number of people in a sunny town after removing exactly one cloud:\", maximumPeople(p, x, y, r))\n",
    "\n",
    "if __name__ == \"__main__\":\n",
    "    main()\n"
   ]
  },
  {
   "cell_type": "code",
   "execution_count": 9,
   "metadata": {},
   "outputs": [
    {
     "name": "stdout",
     "output_type": "stream",
     "text": [
      "The minimum number of plants required to provide electricity to all cities: 2\n"
     ]
    }
   ],
   "source": [
    "def pylons(k, arr):\n",
    "    n = len(arr)\n",
    "    count = 0\n",
    "    i = 0\n",
    "    \n",
    "    while i < n:\n",
    "        j = min(i + k - 1, n - 1)\n",
    "        while j >= i - k + 1 and arr[j] == 0:\n",
    "            j -= 1\n",
    "        if j < i - k + 1:\n",
    "            return -1\n",
    "        count += 1\n",
    "        i = j + k\n",
    "    \n",
    "    return count\n",
    "\n",
    "# User input\n",
    "n, k = map(int, input(\"Enter the number of cities and the plants' range constant (separated by space): \").split())\n",
    "arr = list(map(int, input(\"Enter the binary integers indicating suitability for building a plant (separated by space): \").split()))\n",
    "\n",
    "# Output\n",
    "result = pylons(k, arr)\n",
    "if result == -1:\n",
    "    print(\"It is not possible to provide electricity to all cities with the given distribution constraint.\")\n",
    "else:\n",
    "    print(\"The minimum number of plants required to provide electricity to all cities:\", result)\n"
   ]
  }
 ],
 "metadata": {
  "kernelspec": {
   "display_name": "Python 3",
   "language": "python",
   "name": "python3"
  },
  "language_info": {
   "codemirror_mode": {
    "name": "ipython",
    "version": 3
   },
   "file_extension": ".py",
   "mimetype": "text/x-python",
   "name": "python",
   "nbconvert_exporter": "python",
   "pygments_lexer": "ipython3",
   "version": "3.12.0"
  }
 },
 "nbformat": 4,
 "nbformat_minor": 2
}
